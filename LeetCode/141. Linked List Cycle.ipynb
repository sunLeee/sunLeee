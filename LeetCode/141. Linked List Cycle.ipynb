{
 "cells": [
  {
   "cell_type": "code",
   "execution_count": 4,
   "source": [
    "print(\r\n",
    "    '''\r\n",
    "Given head, the head of a linked list, determine if the linked list has a cycle in it.\r\n",
    "\r\n",
    "There is a cycle in a linked list if there is some node in the list that can be reached again by continuously following the next pointer. Internally, pos is used to denote the index of the node that tail's next pointer is connected to. Note that pos is not passed as a parameter.\r\n",
    "\r\n",
    "Return true if there is a cycle in the linked list. Otherwise, return false.\r\n",
    "'''\r\n",
    ")"
   ],
   "outputs": [
    {
     "output_type": "stream",
     "name": "stdout",
     "text": [
      "\n",
      "Given head, the head of a linked list, determine if the linked list has a cycle in it.\n",
      "\n",
      "There is a cycle in a linked list if there is some node in the list that can be reached again by continuously following the next pointer. Internally, pos is used to denote the index of the node that tail's next pointer is connected to. Note that pos is not passed as a parameter.\n",
      "\n",
      "Return true if there is a cycle in the linked list. Otherwise, return false.\n",
      "\n"
     ]
    }
   ],
   "metadata": {}
  },
  {
   "cell_type": "code",
   "execution_count": 5,
   "source": [
    "import typing"
   ],
   "outputs": [],
   "metadata": {}
  },
  {
   "cell_type": "code",
   "execution_count": 23,
   "source": [
    "def has_cycle(head:ListNode) -> bool :\r\n",
    "    \r\n",
    "    pass"
   ],
   "outputs": [],
   "metadata": {}
  },
  {
   "cell_type": "code",
   "execution_count": 11,
   "source": [
    "class ListNode:\r\n",
    "    def __init__(self, x):\r\n",
    "        self.val = x\r\n",
    "        self.next = None"
   ],
   "outputs": [],
   "metadata": {}
  },
  {
   "cell_type": "code",
   "execution_count": 20,
   "source": [
    "a = ListNode(3)\r\n",
    "b = ListNode(2)\r\n",
    "c = ListNode(0)\r\n",
    "d = ListNode(-4)"
   ],
   "outputs": [],
   "metadata": {}
  },
  {
   "cell_type": "code",
   "execution_count": 28,
   "source": [
    "a.next.next.next.next.val"
   ],
   "outputs": [
    {
     "output_type": "execute_result",
     "data": {
      "text/plain": [
       "2"
      ]
     },
     "metadata": {},
     "execution_count": 28
    }
   ],
   "metadata": {}
  },
  {
   "cell_type": "code",
   "execution_count": 22,
   "source": [
    "a.next = b\r\n",
    "b.next = c\r\n",
    "c.next = d\r\n",
    "d.next = b"
   ],
   "outputs": [],
   "metadata": {}
  },
  {
   "cell_type": "code",
   "execution_count": null,
   "source": [
    "head = [3,2,0,-4]"
   ],
   "outputs": [],
   "metadata": {}
  },
  {
   "cell_type": "code",
   "execution_count": null,
   "source": [
    "\r\n",
    "slow = fast = head \r\n",
    "while slow and fast : \r\n",
    "    fast = fast.next.next \r\n",
    "    slow = slow.next \r\n",
    "    if fast.value == slow.value : \r\n",
    "        return True \r\n",
    "    else : \r\n",
    "        return False"
   ],
   "outputs": [],
   "metadata": {}
  },
  {
   "cell_type": "code",
   "execution_count": 29,
   "source": [
    "class Solution:\r\n",
    "    def hasCycle(self, head: ListNode) -> bool:\r\n",
    "        slow = fast = head\r\n",
    "        \r\n",
    "        while slow and fast :\r\n",
    "            try :\r\n",
    "                fast = fast.next.next \r\n",
    "                slow = slow.next \r\n",
    "            except :\r\n",
    "                return False\r\n",
    "            if fast == slow : \r\n",
    "                return True\r\n",
    "        return False"
   ],
   "outputs": [],
   "metadata": {}
  },
  {
   "cell_type": "code",
   "execution_count": null,
   "source": [],
   "outputs": [],
   "metadata": {}
  }
 ],
 "metadata": {
  "orig_nbformat": 4,
  "language_info": {
   "name": "python",
   "version": "3.8.8",
   "mimetype": "text/x-python",
   "codemirror_mode": {
    "name": "ipython",
    "version": 3
   },
   "pygments_lexer": "ipython3",
   "nbconvert_exporter": "python",
   "file_extension": ".py"
  },
  "kernelspec": {
   "name": "python3",
   "display_name": "Python 3.8.8 64-bit ('playground38': conda)"
  },
  "interpreter": {
   "hash": "a16d04c3b80d0d3afec191b9268edcafa9a4d9e7e2bac86c5fb25a4db9d7161a"
  }
 },
 "nbformat": 4,
 "nbformat_minor": 2
}