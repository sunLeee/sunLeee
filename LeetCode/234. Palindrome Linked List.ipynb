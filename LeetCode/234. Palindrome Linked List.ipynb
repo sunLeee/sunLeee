{
 "cells": [
  {
   "cell_type": "markdown",
   "metadata": {},
   "source": [
    "Palindrome 여부를 판별하기 위해서는 앞뒤로 모두 추출할 수 있는 자료구조가 필요하다.\n",
    "일반적인 스택 자료구조는 마지막 요소만 추출하는 연산만 있지만, \n",
    "파이썬의 리스트는 pop() 함수에 인덱스를 지정할 수 있어 마지막 요소가 아니라도 얼마든지 원하는 위치를 자유롭게 추출할 수 있다.\n",
    "\n",
    "따라서 이 문제는 연결 리스트를 파이썬 리스트(동적배열)로 변환하여 리스트의 기능을 이용하면 쉽게 풀이할 수 있다.\n",
    "\n"
   ]
  }
 ],
 "metadata": {
  "kernelspec": {
   "display_name": "Python [conda env:.conda-playground38]",
   "language": "python",
   "name": "conda-env-.conda-playground38-py"
  },
  "language_info": {
   "codemirror_mode": {
    "name": "ipython",
    "version": 3
   },
   "file_extension": ".py",
   "mimetype": "text/x-python",
   "name": "python",
   "nbconvert_exporter": "python",
   "pygments_lexer": "ipython3",
   "version": "3.8.8"
  }
 },
 "nbformat": 4,
 "nbformat_minor": 4
}
